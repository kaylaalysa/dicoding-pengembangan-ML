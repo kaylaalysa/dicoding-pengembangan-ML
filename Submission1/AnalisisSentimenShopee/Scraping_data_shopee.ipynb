{
 "cells": [
  {
   "cell_type": "code",
   "execution_count": 8,
   "id": "970fc4a8",
   "metadata": {},
   "outputs": [],
   "source": [
    "from google_play_scraper import Sort, reviews\n",
    "import pandas as pd"
   ]
  },
  {
   "cell_type": "code",
   "execution_count": 5,
   "id": "35062916",
   "metadata": {},
   "outputs": [],
   "source": [
    "def scrape_reviews(app_id, count=10000):\n",
    "    all_reviews = []\n",
    "    continuation_token = None  \n",
    "    batch_size = 1000  \n",
    "    \n",
    "    while len(all_reviews) < count:\n",
    "        result, continuation_token = reviews(\n",
    "            app_id,\n",
    "            lang='id',\n",
    "            country='id',\n",
    "            sort=Sort.NEWEST,\n",
    "            count=batch_size,\n",
    "            continuation_token=continuation_token\n",
    "        )\n",
    "        \n",
    "        all_reviews.extend(result)\n",
    "        \n",
    "        if continuation_token is None or len(result) == 0:\n",
    "            break\n",
    "\n",
    "    return all_reviews[:count]  "
   ]
  },
  {
   "cell_type": "code",
   "execution_count": 6,
   "id": "5789c6ba",
   "metadata": {},
   "outputs": [],
   "source": [
    "reviews_data = scrape_reviews('com.shopee.id', count=10000)"
   ]
  },
  {
   "cell_type": "code",
   "execution_count": 9,
   "id": "e9fffbf1",
   "metadata": {},
   "outputs": [],
   "source": [
    "reviews_list = [{'review': r['content'], 'rating': r['score']} for r in reviews_data]\n",
    "df = pd.DataFrame(reviews_list)\n",
    "df.to_csv('reviews_shopee.csv', index=False)"
   ]
  },
  {
   "cell_type": "code",
   "execution_count": null,
   "id": "19c54d46",
   "metadata": {},
   "outputs": [],
   "source": []
  }
 ],
 "metadata": {
  "kernelspec": {
   "display_name": "Python 3 (ipykernel)",
   "language": "python",
   "name": "python3"
  },
  "language_info": {
   "codemirror_mode": {
    "name": "ipython",
    "version": 3
   },
   "file_extension": ".py",
   "mimetype": "text/x-python",
   "name": "python",
   "nbconvert_exporter": "python",
   "pygments_lexer": "ipython3",
   "version": "3.11.9"
  },
  "toc": {
   "base_numbering": 1,
   "nav_menu": {},
   "number_sections": true,
   "sideBar": true,
   "skip_h1_title": false,
   "title_cell": "Table of Contents",
   "title_sidebar": "Contents",
   "toc_cell": false,
   "toc_position": {},
   "toc_section_display": true,
   "toc_window_display": false
  }
 },
 "nbformat": 4,
 "nbformat_minor": 5
}
